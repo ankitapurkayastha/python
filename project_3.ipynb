{
 "cells": [
  {
   "cell_type": "code",
   "execution_count": 1,
   "metadata": {},
   "outputs": [
    {
     "name": "stdout",
     "output_type": "stream",
     "text": [
      "5\n",
      "4\n",
      "3\n",
      "2\n",
      "1\n",
      "blastoff\n"
     ]
    }
   ],
   "source": [
    "n=5\n",
    "while  n>0:\n",
    "    print(n)\n",
    "    n=n-1\n",
    "print('blastoff')"
   ]
  },
  {
   "cell_type": "markdown",
   "metadata": {},
   "source": [
    "sometimes if no proper instructions are given it goesto infinte loop"
   ]
  },
  {
   "cell_type": "code",
   "execution_count": 7,
   "metadata": {},
   "outputs": [
    {
     "name": "stdout",
     "output_type": "stream",
     "text": [
      "a\n"
     ]
    }
   ],
   "source": [
    "def computegrade(score):\n",
    "    if score>0 and score<1:\n",
    "        if score>=.9:\n",
    "            print(\"a\")\n",
    "        elif score>=0.8:\n",
    "            print(\"B\")\n",
    "        elif score>=0.7:\n",
    "            print(\"c\")\n",
    "        elif score>=0.6:\n",
    "            print(\"d\")\n",
    "        else:\n",
    "            print(\"e\")\n",
    "computegrade(.9)"
   ]
  },
  {
   "cell_type": "code",
   "execution_count": 8,
   "metadata": {},
   "outputs": [
    {
     "name": "stdout",
     "output_type": "stream",
     "text": [
      "Enter score.9\n",
      "a\n"
     ]
    }
   ],
   "source": [
    "input_score=input('Enter score')\n",
    "try:\n",
    "    score=float(input_score)\n",
    "except:\n",
    "    print('Bad score')\n",
    "    quit()\n",
    "computegrade(score)"
   ]
  },
  {
   "cell_type": "code",
   "execution_count": 15,
   "metadata": {},
   "outputs": [
    {
     "name": "stdout",
     "output_type": "stream",
     "text": [
      ">5\n",
      "Done\n",
      ">done\n"
     ]
    }
   ],
   "source": [
    "while True:\n",
    "    line=input('>')\n",
    "    if line =='done':\n",
    "        break\n",
    "        print(\"line\")\n",
    "    print('Done')"
   ]
  },
  {
   "cell_type": "code",
   "execution_count": 16,
   "metadata": {},
   "outputs": [
    {
     "name": "stdout",
     "output_type": "stream",
     "text": [
      "1\n",
      "2\n",
      "3\n"
     ]
    }
   ],
   "source": [
    "i=1\n",
    "while i<6:\n",
    "    print(i)\n",
    "    if i ==3:\n",
    "        break\n",
    "    i+=1\n"
   ]
  },
  {
   "cell_type": "markdown",
   "metadata": {},
   "source": [
    "exit the loop when i is 3\n",
    "with the break statement we can stop the loop even if the while condition is true"
   ]
  },
  {
   "cell_type": "code",
   "execution_count": 24,
   "metadata": {},
   "outputs": [
    {
     "name": "stdout",
     "output_type": "stream",
     "text": [
      "1\n",
      "2\n",
      "4\n",
      "5\n",
      "6\n"
     ]
    }
   ],
   "source": [
    "i=0\n",
    "while i<6:\n",
    "    i+=1\n",
    "    if i == 3:\n",
    "        continue\n",
    "    print(i)"
   ]
  },
  {
   "cell_type": "code",
   "execution_count": 32,
   "metadata": {},
   "outputs": [
    {
     "name": "stdout",
     "output_type": "stream",
     "text": [
      "5\n",
      "4\n",
      "3\n",
      "2\n",
      "1\n",
      "0\n"
     ]
    }
   ],
   "source": [
    "g=6\n",
    "while g>0:\n",
    "    g-=1\n",
    "    print(g)"
   ]
  },
  {
   "cell_type": "code",
   "execution_count": 30,
   "metadata": {},
   "outputs": [
    {
     "name": "stdout",
     "output_type": "stream",
     "text": [
      "0 is less than 6\n",
      "1 is less than 6\n",
      "2 is less than 6\n",
      "3 is less than 6\n",
      "4 is less than 6\n",
      "5 is less than 6\n",
      "6 is not less than 6\n"
     ]
    }
   ],
   "source": [
    "count=0\n",
    "while count<6:\n",
    "    print(count,\"is less than 6\")\n",
    "    count=count+1\n",
    "else:\n",
    "    print(count,\"is not less than 6\")"
   ]
  },
  {
   "cell_type": "code",
   "execution_count": null,
   "metadata": {},
   "outputs": [],
   "source": []
  },
  {
   "cell_type": "code",
   "execution_count": null,
   "metadata": {},
   "outputs": [],
   "source": []
  }
 ],
 "metadata": {
  "kernelspec": {
   "display_name": "Python 3",
   "language": "python",
   "name": "python3"
  },
  "language_info": {
   "codemirror_mode": {
    "name": "ipython",
    "version": 3
   },
   "file_extension": ".py",
   "mimetype": "text/x-python",
   "name": "python",
   "nbconvert_exporter": "python",
   "pygments_lexer": "ipython3",
   "version": "3.7.0"
  }
 },
 "nbformat": 4,
 "nbformat_minor": 2
}
