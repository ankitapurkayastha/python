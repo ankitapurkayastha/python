{
  "nbformat": 4,
  "nbformat_minor": 0,
  "metadata": {
    "colab": {
      "name": "pyhton100119_exercise5.ipynb",
      "version": "0.3.2",
      "provenance": [],
      "include_colab_link": true
    },
    "kernelspec": {
      "name": "python2",
      "display_name": "Python 2"
    }
  },
  "cells": [
    {
      "cell_type": "markdown",
      "metadata": {
        "id": "view-in-github",
        "colab_type": "text"
      },
      "source": [
        "<a href=\"https://colab.research.google.com/github/ankitapurkayastha/python/blob/master/pyhton100119_exercise5.ipynb\" target=\"_parent\"><img src=\"https://colab.research.google.com/assets/colab-badge.svg\" alt=\"Open In Colab\"/></a>"
      ]
    },
    {
      "metadata": {
        "id": "pWFVZ1lABTn0",
        "colab_type": "code",
        "colab": {
          "base_uri": "https://localhost:8080/",
          "height": 414
        },
        "outputId": "0421cc94-f76d-4372-d459-7d1fe7820072"
      },
      "cell_type": "code",
      "source": [
        "#1.\tGet the last two rows of df whose row sum is greater than 100\n",
        "import pandas as pd\n",
        "import numpy as np\n",
        "df = pd.DataFrame(np.random.randint(10, 40, 60).reshape(-1, 4))\n",
        "rowsums=df.apply(np.sum,axis=1)\n",
        "print(rowsums)#last two rows with row sum greater than 100\n",
        "last_two_rows=df.iloc[np.where(rowsums>100)[0][-2:],:]\n",
        "last_two_rows"
      ],
      "execution_count": 7,
      "outputs": [
        {
          "output_type": "stream",
          "text": [
            "0     118\n",
            "1      80\n",
            "2     118\n",
            "3      78\n",
            "4      80\n",
            "5     104\n",
            "6      89\n",
            "7      82\n",
            "8      56\n",
            "9      73\n",
            "10    116\n",
            "11     90\n",
            "12    118\n",
            "13     64\n",
            "14    107\n",
            "dtype: int64\n"
          ],
          "name": "stdout"
        },
        {
          "output_type": "execute_result",
          "data": {
            "text/html": [
              "<div>\n",
              "<style scoped>\n",
              "    .dataframe tbody tr th:only-of-type {\n",
              "        vertical-align: middle;\n",
              "    }\n",
              "\n",
              "    .dataframe tbody tr th {\n",
              "        vertical-align: top;\n",
              "    }\n",
              "\n",
              "    .dataframe thead th {\n",
              "        text-align: right;\n",
              "    }\n",
              "</style>\n",
              "<table border=\"1\" class=\"dataframe\">\n",
              "  <thead>\n",
              "    <tr style=\"text-align: right;\">\n",
              "      <th></th>\n",
              "      <th>0</th>\n",
              "      <th>1</th>\n",
              "      <th>2</th>\n",
              "      <th>3</th>\n",
              "    </tr>\n",
              "  </thead>\n",
              "  <tbody>\n",
              "    <tr>\n",
              "      <th>12</th>\n",
              "      <td>28</td>\n",
              "      <td>24</td>\n",
              "      <td>36</td>\n",
              "      <td>30</td>\n",
              "    </tr>\n",
              "    <tr>\n",
              "      <th>14</th>\n",
              "      <td>12</td>\n",
              "      <td>18</td>\n",
              "      <td>39</td>\n",
              "      <td>38</td>\n",
              "    </tr>\n",
              "  </tbody>\n",
              "</table>\n",
              "</div>"
            ],
            "text/plain": [
              "     0   1   2   3\n",
              "12  28  24  36  30\n",
              "14  12  18  39  38"
            ]
          },
          "metadata": {
            "tags": []
          },
          "execution_count": 7
        }
      ]
    },
    {
      "metadata": {
        "id": "LDT_1YX7CCrY",
        "colab_type": "code",
        "colab": {
          "base_uri": "https://localhost:8080/",
          "height": 36
        },
        "outputId": "f6cfe7f1-7eb7-4233-8d7d-ddb7e52b8a4a"
      },
      "cell_type": "code",
      "source": [
        "#2.\tReplace all values of ser in the lower 5%ile and greater than 95%ile with respective 5th and 95th %ile value.\n",
        "\n",
        "ser = pd.Series(np.logspace(-2, 2, 30))\n",
        "def cap_outliers(ser,low_perc,high_perc):\n",
        "  low,high=ser.quantile([low_perc,high_perc])\n",
        "  print(low_perc,'%ile:',low,'|',high_perc,'%ile:',high)\n",
        "  ser[ser<low]=low\n",
        "  ser[ser>high]=high\n",
        "  return(ser)\n",
        "capped_ser=cap_outliers(ser,0.05,.95)"
      ],
      "execution_count": 8,
      "outputs": [
        {
          "output_type": "stream",
          "text": [
            "(0.05, '%ile:', 0.016049294076965887, '|', 0.95, '%ile:', 63.876672220183934)\n"
          ],
          "name": "stdout"
        }
      ]
    },
    {
      "metadata": {
        "id": "tA-jWex4D0xl",
        "colab_type": "code",
        "colab": {
          "base_uri": "https://localhost:8080/",
          "height": 130
        },
        "outputId": "069a2f77-32f2-4eaf-c162-0ebde94a0dee"
      },
      "cell_type": "code",
      "source": [
        "#3.\tSwap rows 1 and 2 in df.\n",
        "df = pd.DataFrame(np.arange(25).reshape(5, -1))\n",
        "def swap_rows(df,i1,i2):\n",
        "  a,b=df.iloc[i1,:].copy(),df.iloc[i2,:].copy()\n",
        "  df.iloc[i1,:],df.iloc[i2,:]=b,a\n",
        "  return df\n",
        "print(swap_rows(df,1,2))"
      ],
      "execution_count": 9,
      "outputs": [
        {
          "output_type": "stream",
          "text": [
            "    0   1   2   3   4\n",
            "0   0   1   2   3   4\n",
            "1  10  11  12  13  14\n",
            "2   5   6   7   8   9\n",
            "3  15  16  17  18  19\n",
            "4  20  21  22  23  24\n"
          ],
          "name": "stdout"
        }
      ]
    },
    {
      "metadata": {
        "id": "s7ymJeybCaMP",
        "colab_type": "code",
        "colab": {}
      },
      "cell_type": "code",
      "source": [
        ""
      ],
      "execution_count": 0,
      "outputs": []
    }
  ]
}