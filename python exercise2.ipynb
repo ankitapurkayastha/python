{
 "cells": [
  {
   "cell_type": "code",
   "execution_count": 1,
   "metadata": {},
   "outputs": [],
   "source": [
    "def fred():\n",
    "    print (\"Zap\")"
   ]
  },
  {
   "cell_type": "code",
   "execution_count": 2,
   "metadata": {},
   "outputs": [
    {
     "name": "stdout",
     "output_type": "stream",
     "text": [
      "Zap\n"
     ]
    }
   ],
   "source": [
    "fred()"
   ]
  },
  {
   "cell_type": "code",
   "execution_count": 3,
   "metadata": {},
   "outputs": [
    {
     "name": "stdout",
     "output_type": "stream",
     "text": [
      "number of hours40\n",
      "enter rate5\n",
      "200\n"
     ]
    }
   ],
   "source": [
    "hours=int(input(\"number of hours\"))\n",
    "rate=int(input(\"enter rate\"))\n",
    "def compute():\n",
    "    pay=hours*rate\n",
    "    print(pay)\n",
    "compute()"
   ]
  },
  {
   "cell_type": "markdown",
   "metadata": {},
   "source": [
    "##### "
   ]
  },
  {
   "cell_type": "code",
   "execution_count": 4,
   "metadata": {},
   "outputs": [
    {
     "name": "stdout",
     "output_type": "stream",
     "text": [
      "number of hours8\n",
      "enter rate8\n",
      "64\n"
     ]
    }
   ],
   "source": [
    "hours=int(input(\"number of hours\"))\n",
    "rate=int(input(\"enter rate\"))\n",
    "pay=hours*rate\n",
    "print(pay)"
   ]
  },
  {
   "cell_type": "code",
   "execution_count": 5,
   "metadata": {},
   "outputs": [
    {
     "name": "stdout",
     "output_type": "stream",
     "text": [
      "Enter hours:kj\n",
      "Error, please enter the numeric input\n"
     ]
    }
   ],
   "source": [
    "try:\n",
    "    input_hours=input('Enter hours:')\n",
    "    hours=float(input_hours)\n",
    "except:\n",
    "    print('Error, please enter the numeric input')\n",
    "    "
   ]
  },
  {
   "cell_type": "code",
   "execution_count": 6,
   "metadata": {},
   "outputs": [
    {
     "name": "stdout",
     "output_type": "stream",
     "text": [
      "Enter rate:hh\n",
      "Error, please enter the numeric input\n"
     ]
    }
   ],
   "source": [
    "try:\n",
    "    input_rate=input('Enter rate:')\n",
    "    hours=float(input_rate)\n",
    "except:\n",
    "    print('Error, please enter the numeric input')"
   ]
  },
  {
   "cell_type": "code",
   "execution_count": null,
   "metadata": {},
   "outputs": [],
   "source": []
  }
 ],
 "metadata": {
  "kernelspec": {
   "display_name": "Python 3",
   "language": "python",
   "name": "python3"
  },
  "language_info": {
   "codemirror_mode": {
    "name": "ipython",
    "version": 3
   },
   "file_extension": ".py",
   "mimetype": "text/x-python",
   "name": "python",
   "nbconvert_exporter": "python",
   "pygments_lexer": "ipython3",
   "version": "3.7.0"
  }
 },
 "nbformat": 4,
 "nbformat_minor": 2
}
