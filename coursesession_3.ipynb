{
  "nbformat": 4,
  "nbformat_minor": 0,
  "metadata": {
    "colab": {
      "name": "coursesession_3.ipynb",
      "version": "0.3.2",
      "provenance": [],
      "include_colab_link": true
    },
    "kernelspec": {
      "name": "python3",
      "display_name": "Python 3"
    }
  },
  "cells": [
    {
      "cell_type": "markdown",
      "metadata": {
        "id": "view-in-github",
        "colab_type": "text"
      },
      "source": [
        "<a href=\"https://colab.research.google.com/github/ankitapurkayastha/python/blob/master/coursesession_3.ipynb\" target=\"_parent\"><img src=\"https://colab.research.google.com/assets/colab-badge.svg\" alt=\"Open In Colab\"/></a>"
      ]
    },
    {
      "cell_type": "code",
      "metadata": {
        "id": "dDAjpVbPyoty",
        "colab_type": "code",
        "outputId": "d5dd28a9-1925-4785-ca62-66abb048abb2",
        "colab": {
          "base_uri": "https://localhost:8080/",
          "height": 34
        }
      },
      "source": [
        "score=int(input(\"enter your score:\"))\n",
        "passing=40\n",
        "distinction=90"
      ],
      "execution_count": 0,
      "outputs": [
        {
          "output_type": "stream",
          "text": [
            "enter your score:30\n"
          ],
          "name": "stdout"
        }
      ]
    },
    {
      "cell_type": "code",
      "metadata": {
        "id": "oAS0rbLmywZx",
        "colab_type": "code",
        "outputId": "36ae4236-2fce-4bc5-ad09-25fb10213a34",
        "colab": {
          "base_uri": "https://localhost:8080/",
          "height": 34
        }
      },
      "source": [
        "if score >= distinction:\n",
        "  print(\"you are at top\")\n",
        " \n",
        "if score <= passing:\n",
        "  print(\"you have passed\")\n"
      ],
      "execution_count": 0,
      "outputs": [
        {
          "output_type": "stream",
          "text": [
            "you have passed\n"
          ],
          "name": "stdout"
        }
      ]
    },
    {
      "cell_type": "code",
      "metadata": {
        "id": "t-3SME7ozcGR",
        "colab_type": "code",
        "outputId": "6a563a10-6978-4203-9dbe-86da87bae9e1",
        "colab": {
          "base_uri": "https://localhost:8080/",
          "height": 34
        }
      },
      "source": [
        "if score >= distinction:\n",
        "  print(\"you are at top\")\n",
        "elif score < passing:\n",
        "  print(\"sorry you have failed\")\n"
      ],
      "execution_count": 0,
      "outputs": [
        {
          "output_type": "stream",
          "text": [
            "sorry you have failed\n"
          ],
          "name": "stdout"
        }
      ]
    },
    {
      "cell_type": "code",
      "metadata": {
        "id": "7vWTLZxq0I9G",
        "colab_type": "code",
        "outputId": "58e6154e-6efa-4706-8a46-01754f989de5",
        "colab": {
          "base_uri": "https://localhost:8080/",
          "height": 34
        }
      },
      "source": [
        "statement=\"the coffee is bad\"\n",
        "if 'bad' in statement:\n",
        "  print(\"bad review\")\n",
        "else:\n",
        "  print(\"good review\")"
      ],
      "execution_count": 0,
      "outputs": [
        {
          "output_type": "stream",
          "text": [
            "bad review\n"
          ],
          "name": "stdout"
        }
      ]
    },
    {
      "cell_type": "code",
      "metadata": {
        "id": "NREmMFIo1GDr",
        "colab_type": "code",
        "outputId": "a7652875-618a-41e4-8d5c-d0496c936a39",
        "colab": {
          "base_uri": "https://localhost:8080/",
          "height": 51
        }
      },
      "source": [
        "num=int(input(\"enter a number\"))\n",
        "if num%4==0:\n",
        "  print(\"even\")\n",
        "else:\n",
        "  print(\"not divisible by 4\")\n",
        "  "
      ],
      "execution_count": 0,
      "outputs": [
        {
          "output_type": "stream",
          "text": [
            "enter a number45\n",
            "not divisible by 4\n"
          ],
          "name": "stdout"
        }
      ]
    },
    {
      "cell_type": "code",
      "metadata": {
        "id": "Sn9j9Kr02oxw",
        "colab_type": "code",
        "outputId": "fff816de-a57d-4048-8f70-97603db5cd91",
        "colab": {
          "base_uri": "https://localhost:8080/",
          "height": 85
        }
      },
      "source": [
        "for i in range(1,5):\n",
        "  print(i)"
      ],
      "execution_count": 0,
      "outputs": [
        {
          "output_type": "stream",
          "text": [
            "1\n",
            "2\n",
            "3\n",
            "4\n"
          ],
          "name": "stdout"
        }
      ]
    },
    {
      "cell_type": "code",
      "metadata": {
        "id": "qmztMz-W6tRq",
        "colab_type": "code",
        "outputId": "aff789e2-51b9-4b8f-bf7f-a811ab63a97a",
        "colab": {
          "base_uri": "https://localhost:8080/",
          "height": 102
        }
      },
      "source": [
        "for i in range(1,10,2):\n",
        "  print(i)"
      ],
      "execution_count": 0,
      "outputs": [
        {
          "output_type": "stream",
          "text": [
            "1\n",
            "3\n",
            "5\n",
            "7\n",
            "9\n"
          ],
          "name": "stdout"
        }
      ]
    },
    {
      "cell_type": "code",
      "metadata": {
        "id": "mLfnxeoy7EUI",
        "colab_type": "code",
        "outputId": "3c31996b-5dbd-4df8-d192-61294caadcc1",
        "colab": {
          "base_uri": "https://localhost:8080/",
          "height": 357
        }
      },
      "source": [
        "my_string=(\"mary had an elephant\")\n",
        "for alphabets in my_string:\n",
        "  print(alphabets)"
      ],
      "execution_count": 0,
      "outputs": [
        {
          "output_type": "stream",
          "text": [
            "m\n",
            "a\n",
            "r\n",
            "y\n",
            " \n",
            "h\n",
            "a\n",
            "d\n",
            " \n",
            "a\n",
            "n\n",
            " \n",
            "e\n",
            "l\n",
            "e\n",
            "p\n",
            "h\n",
            "a\n",
            "n\n",
            "t\n"
          ],
          "name": "stdout"
        }
      ]
    },
    {
      "cell_type": "code",
      "metadata": {
        "id": "7SrSXkjy7brC",
        "colab_type": "code",
        "outputId": "a5955281-3b1a-4b66-8bde-d7ee0cadd19b",
        "colab": {
          "base_uri": "https://localhost:8080/",
          "height": 357
        }
      },
      "source": [
        "my_string=(\"mary had an elephant\")\n",
        "for n, alphabet in enumerate(my_string):\n",
        "  print(alphabet, n)"
      ],
      "execution_count": 0,
      "outputs": [
        {
          "output_type": "stream",
          "text": [
            "m 0\n",
            "a 1\n",
            "r 2\n",
            "y 3\n",
            "  4\n",
            "h 5\n",
            "a 6\n",
            "d 7\n",
            "  8\n",
            "a 9\n",
            "n 10\n",
            "  11\n",
            "e 12\n",
            "l 13\n",
            "e 14\n",
            "p 15\n",
            "h 16\n",
            "a 17\n",
            "n 18\n",
            "t 19\n"
          ],
          "name": "stdout"
        }
      ]
    },
    {
      "cell_type": "code",
      "metadata": {
        "id": "qwTInxTZ76RV",
        "colab_type": "code",
        "outputId": "f64a07c9-f062-4bf3-b31c-5e77ec2a4c9e",
        "colab": {
          "base_uri": "https://localhost:8080/",
          "height": 2550
        }
      },
      "source": [
        "for i in range(100):\n",
        "    print(i)\n",
        "    if i>50:\n",
        "        pass\n",
        "        print(\"Hello\")"
      ],
      "execution_count": 0,
      "outputs": [
        {
          "output_type": "stream",
          "text": [
            "0\n",
            "1\n",
            "2\n",
            "3\n",
            "4\n",
            "5\n",
            "6\n",
            "7\n",
            "8\n",
            "9\n",
            "10\n",
            "11\n",
            "12\n",
            "13\n",
            "14\n",
            "15\n",
            "16\n",
            "17\n",
            "18\n",
            "19\n",
            "20\n",
            "21\n",
            "22\n",
            "23\n",
            "24\n",
            "25\n",
            "26\n",
            "27\n",
            "28\n",
            "29\n",
            "30\n",
            "31\n",
            "32\n",
            "33\n",
            "34\n",
            "35\n",
            "36\n",
            "37\n",
            "38\n",
            "39\n",
            "40\n",
            "41\n",
            "42\n",
            "43\n",
            "44\n",
            "45\n",
            "46\n",
            "47\n",
            "48\n",
            "49\n",
            "50\n",
            "51\n",
            "Hello\n",
            "52\n",
            "Hello\n",
            "53\n",
            "Hello\n",
            "54\n",
            "Hello\n",
            "55\n",
            "Hello\n",
            "56\n",
            "Hello\n",
            "57\n",
            "Hello\n",
            "58\n",
            "Hello\n",
            "59\n",
            "Hello\n",
            "60\n",
            "Hello\n",
            "61\n",
            "Hello\n",
            "62\n",
            "Hello\n",
            "63\n",
            "Hello\n",
            "64\n",
            "Hello\n",
            "65\n",
            "Hello\n",
            "66\n",
            "Hello\n",
            "67\n",
            "Hello\n",
            "68\n",
            "Hello\n",
            "69\n",
            "Hello\n",
            "70\n",
            "Hello\n",
            "71\n",
            "Hello\n",
            "72\n",
            "Hello\n",
            "73\n",
            "Hello\n",
            "74\n",
            "Hello\n",
            "75\n",
            "Hello\n",
            "76\n",
            "Hello\n",
            "77\n",
            "Hello\n",
            "78\n",
            "Hello\n",
            "79\n",
            "Hello\n",
            "80\n",
            "Hello\n",
            "81\n",
            "Hello\n",
            "82\n",
            "Hello\n",
            "83\n",
            "Hello\n",
            "84\n",
            "Hello\n",
            "85\n",
            "Hello\n",
            "86\n",
            "Hello\n",
            "87\n",
            "Hello\n",
            "88\n",
            "Hello\n",
            "89\n",
            "Hello\n",
            "90\n",
            "Hello\n",
            "91\n",
            "Hello\n",
            "92\n",
            "Hello\n",
            "93\n",
            "Hello\n",
            "94\n",
            "Hello\n",
            "95\n",
            "Hello\n",
            "96\n",
            "Hello\n",
            "97\n",
            "Hello\n",
            "98\n",
            "Hello\n",
            "99\n",
            "Hello\n"
          ],
          "name": "stdout"
        }
      ]
    },
    {
      "cell_type": "code",
      "metadata": {
        "id": "6LjFepYq8UZH",
        "colab_type": "code",
        "outputId": "3526505a-8477-4b02-89fa-4276eed5e26e",
        "colab": {
          "base_uri": "https://localhost:8080/",
          "height": 561
        }
      },
      "source": [
        "start=20\n",
        "total=1\n",
        "while start<51:\n",
        "  total+=start\n",
        "  start+=1\n",
        "  print(start)\n",
        "print(total)"
      ],
      "execution_count": 0,
      "outputs": [
        {
          "output_type": "stream",
          "text": [
            "21\n",
            "22\n",
            "23\n",
            "24\n",
            "25\n",
            "26\n",
            "27\n",
            "28\n",
            "29\n",
            "30\n",
            "31\n",
            "32\n",
            "33\n",
            "34\n",
            "35\n",
            "36\n",
            "37\n",
            "38\n",
            "39\n",
            "40\n",
            "41\n",
            "42\n",
            "43\n",
            "44\n",
            "45\n",
            "46\n",
            "47\n",
            "48\n",
            "49\n",
            "50\n",
            "51\n",
            "1086\n"
          ],
          "name": "stdout"
        }
      ]
    },
    {
      "cell_type": "code",
      "metadata": {
        "id": "oV-HhAGu9kQQ",
        "colab_type": "code",
        "colab": {}
      },
      "source": [
        ""
      ],
      "execution_count": 0,
      "outputs": []
    }
  ]
}