{
 "cells": [
  {
   "cell_type": "code",
   "execution_count": 1,
   "metadata": {},
   "outputs": [
    {
     "name": "stdout",
     "output_type": "stream",
     "text": [
      "enter a number:8\n",
      "enter a number:8\n",
      "enter a number:9\n",
      "enter a number:done\n",
      "25.0 8.333333333333334 3\n"
     ]
    }
   ],
   "source": [
    "count=0                                                 #initializes the value\n",
    "total=0\n",
    "largest = None\n",
    "smallest = None\n",
    "\n",
    "while True:                                    #stays in loop\n",
    "    input_number = input('enter a number:')\n",
    "    if input_number == 'done': break   #exits the loop\n",
    "    try:\n",
    "        number = float(input_number)\n",
    "        count=count+1\n",
    "        total=total+number\n",
    "        average=total/count\n",
    "\n",
    "    \n",
    "    except:\n",
    "          print('invalid input')\n",
    "            \n",
    "\n",
    "print(total,average,count)"
   ]
  },
  {
   "cell_type": "markdown",
   "metadata": {},
   "source": [
    "second question of pyuthon exercise 3\n"
   ]
  },
  {
   "cell_type": "code",
   "execution_count": 2,
   "metadata": {},
   "outputs": [
    {
     "name": "stdout",
     "output_type": "stream",
     "text": [
      "enter a number:7\n",
      "enter a number:7\n",
      "enter a number:7\n",
      "enter a number:done\n",
      "21.0 3 7.0 7.0\n"
     ]
    }
   ],
   "source": [
    "count=0                                                 #initializes the value\n",
    "total=0\n",
    "largest = None\n",
    "smallest = None\n",
    "\n",
    "while True:                                    #stays in loop\n",
    "    input1 = input('enter a number:')\n",
    "    if input1 == 'done': break   #exits the loop\n",
    "    try:\n",
    "        number = float(input1) \n",
    "        count=count+1      #counter\n",
    "        total=total+number   #running total#only allows input floats\n",
    "    except:\n",
    "          print('invalid input')\n",
    "    if largest is None or number>largest:    # condition for maximum and below is one for minimum\n",
    "        largest = number\n",
    "    if smallest is None or number<smallest:\n",
    "        smallest = number\n",
    "        \n",
    "print(total,count,largest,smallest)"
   ]
  },
  {
   "cell_type": "markdown",
   "metadata": {},
   "source": [
    "write a code for counting the number of characters froma  string sya\"yahoo.com\""
   ]
  },
  {
   "cell_type": "code",
   "execution_count": 3,
   "metadata": {},
   "outputs": [
    {
     "name": "stdout",
     "output_type": "stream",
     "text": [
      "{'m': 1, 'i': 1, 'n': 1, 'd': 1, 't': 1, 'r': 1, 'e': 2}\n"
     ]
    }
   ],
   "source": [
    "def char_frequency(str1):\n",
    "    dict ={}\n",
    "    for n in str1:\n",
    "        keys=dict.keys()\n",
    "        if n in keys:\n",
    "            dict[n]+=1\n",
    "        else:\n",
    "            dict[n]=1\n",
    "    return dict\n",
    "print(char_frequency('mindtree'))"
   ]
  },
  {
   "cell_type": "markdown",
   "metadata": {},
   "source": [
    "write a python program to get a single string from two given string, separated by a space and swap the first two characters of eachs string"
   ]
  },
  {
   "cell_type": "code",
   "execution_count": 4,
   "metadata": {},
   "outputs": [
    {
     "name": "stdout",
     "output_type": "stream",
     "text": [
      "xycabz\n"
     ]
    }
   ],
   "source": [
    "def chars_mix_up(a,b):\n",
    "    new_a=b[:2]+a[2:]    #:2-first two positions before b 2: is the last two positions\n",
    "    new_b=a[:2]+b[2:]\n",
    "    \n",
    "    return new_a+''+new_b\n",
    "print(chars_mix_up('abc','xyz'))"
   ]
  },
  {
   "cell_type": "markdown",
   "metadata": {},
   "source": [
    "to add ing at the end of the string and length should be 3. leave the string if it has ing then add ly"
   ]
  },
  {
   "cell_type": "code",
   "execution_count": 12,
   "metadata": {},
   "outputs": [
    {
     "name": "stdout",
     "output_type": "stream",
     "text": [
      "ab\n",
      "abcing\n",
      "strly\n"
     ]
    }
   ],
   "source": [
    "def add_string(str1):\n",
    "    length=len(str1)\n",
    "    \n",
    "    if length>2:\n",
    "        if str1[-3:]=='ing':\n",
    "            str1=str1[:length-3]   # this line for replacing the ing to ly\n",
    "            str1+='ly'\n",
    "        else:\n",
    "            str1 += 'ing'\n",
    "        \n",
    "    return str1\n",
    "print(add_string('ab'))\n",
    "print(add_string('abc'))\n",
    "print(add_string('string'))"
   ]
  },
  {
   "cell_type": "markdown",
   "metadata": {},
   "source": [
    "#to find the first appearance of the substring'not' and' poor' from A GIVEN STRING IF NOT FOLLOWS THE POOR, replce the whole 'not'...'poor' substring with the 'good'\n",
    "return the resulting string"
   ]
  },
  {
   "cell_type": "code",
   "execution_count": 10,
   "metadata": {},
   "outputs": [
    {
     "name": "stdout",
     "output_type": "stream",
     "text": [
      "the lyrics is good!\n",
      "the lyrics is poor!\n"
     ]
    }
   ],
   "source": [
    "def not_poor(str1):\n",
    "    snot=str1.find('not')\n",
    "    spoor=str1.find('poor')\n",
    "    if spoor>snot and snot>0 and spoor>0:\n",
    "        str1=str1.replace(str1[snot:(spoor+4)],'good')\n",
    "        return str1\n",
    "    else:\n",
    "        return str1\n",
    "print(not_poor(\"the lyrics is not that poor!\"))\n",
    "print(not_poor(\"the lyrics is poor!\"))"
   ]
  },
  {
   "cell_type": "code",
   "execution_count": null,
   "metadata": {},
   "outputs": [],
   "source": []
  }
 ],
 "metadata": {
  "kernelspec": {
   "display_name": "Python 3",
   "language": "python",
   "name": "python3"
  },
  "language_info": {
   "codemirror_mode": {
    "name": "ipython",
    "version": 3
   },
   "file_extension": ".py",
   "mimetype": "text/x-python",
   "name": "python",
   "nbconvert_exporter": "python",
   "pygments_lexer": "ipython3",
   "version": "3.7.0"
  }
 },
 "nbformat": 4,
 "nbformat_minor": 2
}
