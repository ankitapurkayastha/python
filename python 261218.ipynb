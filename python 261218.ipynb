{
 "cells": [
  {
   "cell_type": "code",
   "execution_count": 8,
   "metadata": {},
   "outputs": [
    {
     "name": "stdout",
     "output_type": "stream",
     "text": [
      "22\n",
      "total sum is 22\n"
     ]
    }
   ],
   "source": [
    "total_sum=0\n",
    "a=int(input())\n",
    "while a!=0:\n",
    "    total_sum+=a\n",
    "    if total_sum>=21:\n",
    "        print('total sum is',total_sum)\n",
    "        break\n",
    "        \n",
    "    a=int(input())\n",
    "else:\n",
    "    print('total sum is less than 21 and is equal to total_sum')"
   ]
  },
  {
   "cell_type": "code",
   "execution_count": 29,
   "metadata": {},
   "outputs": [
    {
     "ename": "NameError",
     "evalue": "name 'Friends' is not defined",
     "output_type": "error",
     "traceback": [
      "\u001b[1;31m---------------------------------------------------------------------------\u001b[0m",
      "\u001b[1;31mNameError\u001b[0m                                 Traceback (most recent call last)",
      "\u001b[1;32m<ipython-input-29-b788f37dc486>\u001b[0m in \u001b[0;36m<module>\u001b[1;34m()\u001b[0m\n\u001b[0;32m      1\u001b[0m \u001b[0mfriends\u001b[0m\u001b[1;33m=\u001b[0m\u001b[1;33m(\u001b[0m\u001b[1;34m\"Ghansu\"\u001b[0m\u001b[1;33m,\u001b[0m\u001b[1;34m\"Sadu\"\u001b[0m\u001b[1;33m,\u001b[0m\u001b[1;34m\"Jessica\"\u001b[0m\u001b[1;33m,\u001b[0m\u001b[1;34m\"Golgappe\"\u001b[0m\u001b[1;33m)\u001b[0m\u001b[1;33m\u001b[0m\u001b[0m\n\u001b[1;32m----> 2\u001b[1;33m \u001b[1;32mfor\u001b[0m \u001b[0mFriend\u001b[0m \u001b[1;32min\u001b[0m \u001b[0mFriends\u001b[0m\u001b[1;33m:\u001b[0m\u001b[1;33m\u001b[0m\u001b[0m\n\u001b[0m\u001b[0;32m      3\u001b[0m     \u001b[0mprint\u001b[0m\u001b[1;33m(\u001b[0m\u001b[1;34m\"Happy New year\"\u001b[0m\u001b[1;33m,\u001b[0m \u001b[0mFriends\u001b[0m\u001b[1;33m)\u001b[0m\u001b[1;33m\u001b[0m\u001b[0m\n",
      "\u001b[1;31mNameError\u001b[0m: name 'Friends' is not defined"
     ]
    }
   ],
   "source": [
    "friends=(\"Ghansu\",\"Sadu\",\"Jessica\",\"Golgappe\")\n",
    "for Friend in Friends:\n",
    "    print(\"Happy New year\", Friends)"
   ]
  },
  {
   "cell_type": "markdown",
   "metadata": {},
   "source": [
    "for loop"
   ]
  },
  {
   "cell_type": "code",
   "execution_count": 16,
   "metadata": {},
   "outputs": [
    {
     "name": "stdout",
     "output_type": "stream",
     "text": [
      "Count 1\n",
      "Count 2\n",
      "Count 3\n",
      "Count 4\n",
      "Count 5\n",
      "Count 6\n"
     ]
    }
   ],
   "source": [
    "count=0\n",
    "for itervar in [3,41,12,9,74,15]:\n",
    "    count=count+1\n",
    "    print('Count',count)"
   ]
  },
  {
   "cell_type": "code",
   "execution_count": 19,
   "metadata": {},
   "outputs": [
    {
     "name": "stdout",
     "output_type": "stream",
     "text": [
      "Total 3\n",
      "Total 44\n",
      "Total 56\n",
      "Total 65\n",
      "Total 139\n",
      "Total 154\n"
     ]
    }
   ],
   "source": [
    "total=0\n",
    "for itervar in [3,41,12,9,74,15]:\n",
    "    total=total+itervar\n",
    "    print('Total',total)"
   ]
  },
  {
   "cell_type": "markdown",
   "metadata": {},
   "source": [
    "program, to find all numbers in the list "
   ]
  },
  {
   "cell_type": "code",
   "execution_count": 23,
   "metadata": {},
   "outputs": [
    {
     "name": "stdout",
     "output_type": "stream",
     "text": [
      "the sum is 6\n",
      "the sum is 11\n",
      "the sum is 14\n",
      "the sum is 22\n",
      "the sum is 26\n",
      "the sum is 28\n",
      "the sum is 33\n",
      "the sum is 37\n",
      "the sum is 48\n"
     ]
    }
   ],
   "source": [
    "numbers=[6,5,3,8,4,2,5,4,11]\n",
    "sum=0\n",
    "for val in numbers:\n",
    "    sum=sum+val\n",
    "    print(\"the sum is\",sum)"
   ]
  },
  {
   "cell_type": "code",
   "execution_count": 28,
   "metadata": {},
   "outputs": [
    {
     "name": "stdout",
     "output_type": "stream",
     "text": [
      "I like pop\n",
      "I like rock\n",
      "I like jazz\n"
     ]
    }
   ],
   "source": [
    "genre=['pop','rock','jazz']\n",
    "for i in range(len(genre)):\n",
    "    print(\"I like\",genre[i])"
   ]
  },
  {
   "cell_type": "code",
   "execution_count": 50,
   "metadata": {},
   "outputs": [
    {
     "name": "stdout",
     "output_type": "stream",
     "text": [
      "Happy New year: Ghansu\n",
      "Happy New year: Sadu\n",
      "Happy New year: Jess\n",
      "Happy New year: Golgappe\n",
      "Done!\n"
     ]
    }
   ],
   "source": [
    "friends=['Ghansu','Sadu','Jess','Golgappe']\n",
    "\n",
    "for friend in friends :\n",
    "    print('Happy New year:', friend)\n",
    "print('Done!')"
   ]
  },
  {
   "cell_type": "code",
   "execution_count": 39,
   "metadata": {},
   "outputs": [
    {
     "name": "stdout",
     "output_type": "stream",
     "text": [
      "Enter lower range:60\n",
      "Enter upper range:1000\n",
      "prime numbers between 60 and 1000 are:\n",
      "61\n",
      "67\n",
      "71\n",
      "73\n",
      "79\n",
      "83\n",
      "89\n",
      "97\n",
      "101\n",
      "103\n",
      "107\n",
      "109\n",
      "113\n",
      "127\n",
      "131\n",
      "137\n",
      "139\n",
      "149\n",
      "151\n",
      "157\n",
      "163\n",
      "167\n",
      "173\n",
      "179\n",
      "181\n",
      "191\n",
      "193\n",
      "197\n",
      "199\n",
      "211\n",
      "223\n",
      "227\n",
      "229\n",
      "233\n",
      "239\n",
      "241\n",
      "251\n",
      "257\n",
      "263\n",
      "269\n",
      "271\n",
      "277\n",
      "281\n",
      "283\n",
      "293\n",
      "307\n",
      "311\n",
      "313\n",
      "317\n",
      "331\n",
      "337\n",
      "347\n",
      "349\n",
      "353\n",
      "359\n",
      "367\n",
      "373\n",
      "379\n",
      "383\n",
      "389\n",
      "397\n",
      "401\n",
      "409\n",
      "419\n",
      "421\n",
      "431\n",
      "433\n",
      "439\n",
      "443\n",
      "449\n",
      "457\n",
      "461\n",
      "463\n",
      "467\n",
      "479\n",
      "487\n",
      "491\n",
      "499\n",
      "503\n",
      "509\n",
      "521\n",
      "523\n",
      "541\n",
      "547\n",
      "557\n",
      "563\n",
      "569\n",
      "571\n",
      "577\n",
      "587\n",
      "593\n",
      "599\n",
      "601\n",
      "607\n",
      "613\n",
      "617\n",
      "619\n",
      "631\n",
      "641\n",
      "643\n",
      "647\n",
      "653\n",
      "659\n",
      "661\n",
      "673\n",
      "677\n",
      "683\n",
      "691\n",
      "701\n",
      "709\n",
      "719\n",
      "727\n",
      "733\n",
      "739\n",
      "743\n",
      "751\n",
      "757\n",
      "761\n",
      "769\n",
      "773\n",
      "787\n",
      "797\n",
      "809\n",
      "811\n",
      "821\n",
      "823\n",
      "827\n",
      "829\n",
      "839\n",
      "853\n",
      "857\n",
      "859\n",
      "863\n",
      "877\n",
      "881\n",
      "883\n",
      "887\n",
      "907\n",
      "911\n",
      "919\n",
      "929\n",
      "937\n",
      "941\n",
      "947\n",
      "953\n",
      "967\n",
      "971\n",
      "977\n",
      "983\n",
      "991\n",
      "997\n"
     ]
    }
   ],
   "source": [
    "#to display all prime numbers within an interval\n",
    "#change the values of lower and upper fior a different result\n",
    "lower=900\n",
    "upper=1000\n",
    "lower=int(input('Enter lower range:'))\n",
    "upper=int(input('Enter upper range:'))\n",
    "print(\"prime numbers between\",lower,\"and\",upper,\"are:\")\n",
    "for num in range (lower,upper+1):\n",
    "    #prime number greater than1\n",
    "    if num>1:\n",
    "        for i in range(2,num):\n",
    "            if(num%i)==0:\n",
    "                break\n",
    "        else:\n",
    "            print(num)"
   ]
  },
  {
   "cell_type": "code",
   "execution_count": 46,
   "metadata": {},
   "outputs": [
    {
     "name": "stdout",
     "output_type": "stream",
     "text": [
      "Enter a string:this is $& a new project\n",
      "t\n",
      "th\n",
      "thi\n",
      "this\n",
      "this \n",
      "this i\n",
      "this is\n",
      "this is \n",
      "this is \n",
      "this is &\n",
      "this is & \n",
      "this is & a\n",
      "this is & a \n",
      "this is & a n\n",
      "this is & a ne\n",
      "this is & a new\n",
      "this is & a new \n",
      "this is & a new p\n",
      "this is & a new pr\n",
      "this is & a new pro\n",
      "this is & a new proj\n",
      "this is & a new proje\n",
      "this is & a new projec\n",
      "this is & a new project\n"
     ]
    }
   ],
   "source": [
    "#define punctuations\n",
    "punctuations=\"!()-{},;:()<>.??@#$%^*^\"\n",
    "my_str=\"Hello!!!,he said---and went\"\n",
    "#to take input from the user\n",
    "my_str=input(\"Enter a string:\")\n",
    "#remove punctuation from the string\n",
    "no_punct=\"\"\n",
    "for char in my_str:\n",
    "    if char not in punctuations:\n",
    "        no_punct=no_punct+char\n",
    "        #display the unpunctuated string\n",
    "    print(no_punct)"
   ]
  },
  {
   "cell_type": "code",
   "execution_count": 52,
   "metadata": {},
   "outputs": [
    {
     "name": "stdout",
     "output_type": "stream",
     "text": [
      "enter a string:new project$is this\n"
     ]
    }
   ],
   "source": [
    "#change the value for a different result\n",
    "my_str=\"Hello this is an example with cased letters\"\n",
    "#uncomment to take input from the user\n",
    "my_str=input(\"enter a string:\")"
   ]
  },
  {
   "cell_type": "code",
   "execution_count": 57,
   "metadata": {},
   "outputs": [
    {
     "name": "stdout",
     "output_type": "stream",
     "text": [
      "The sorted words are:\n",
      "new\n",
      "project$is\n",
      "this\n"
     ]
    }
   ],
   "source": [
    "#breakdown the string into a list of words\n",
    "words=my_str.split()\n",
    "#sort the list\n",
    "words.sort()\n",
    "#display the sorted words\n",
    "print(\"The sorted words are:\")\n",
    "for word in words:\n",
    "    print(word)"
   ]
  },
  {
   "cell_type": "code",
   "execution_count": 58,
   "metadata": {},
   "outputs": [
    {
     "name": "stdout",
     "output_type": "stream",
     "text": [
      "after 240\n"
     ]
    }
   ],
   "source": [
    "zork=0\n",
    "for thing in [9,8,6,7,66,44,100]:\n",
    "    zork=zork+thing\n",
    "print('after',zork)"
   ]
  },
  {
   "cell_type": "code",
   "execution_count": 60,
   "metadata": {},
   "outputs": [
    {
     "name": "stdout",
     "output_type": "stream",
     "text": [
      "The factorial of 4 is 24\n"
     ]
    }
   ],
   "source": [
    "#recursive function is calling the function itself again and again in the loop\n",
    "def calc_factorial(x):\n",
    "    \"\"\"this is a recursive function\n",
    "    to find the factorial of an integer\"\"\"\n",
    "    if x==1:\n",
    "        return 1\n",
    "    else:\n",
    "        return(x*calc_factorial(x-1))\n",
    "num=4\n",
    "print(\"The factorial of\",num,\"is\",calc_factorial(num))"
   ]
  },
  {
   "cell_type": "code",
   "execution_count": 62,
   "metadata": {},
   "outputs": [
    {
     "name": "stdout",
     "output_type": "stream",
     "text": [
      "-1\n"
     ]
    }
   ],
   "source": [
    "smallest_so_far = -1\n",
    "for the_num in [9, 41, 12, 3, 74, 15] :\n",
    "   if the_num < smallest_so_far :\n",
    "      smallest_so_far = the_num\n",
    "print(smallest_so_far)"
   ]
  },
  {
   "cell_type": "code",
   "execution_count": 64,
   "metadata": {},
   "outputs": [
    {
     "name": "stdout",
     "output_type": "stream",
     "text": [
      "[4, 6, 8, 12]\n"
     ]
    }
   ],
   "source": [
    "#there are some anonymous function like lambda\n",
    "#program to filte rout the even items only from the list\n",
    "my_list=[1,4,5,6,8,11,3,1,23,12]\n",
    "new_list=list(filter(lambda x:(x%2==0),my_list))\n",
    "#output:[4,6,8,12]\n",
    "print(new_list)"
   ]
  },
  {
   "cell_type": "code",
   "execution_count": null,
   "metadata": {},
   "outputs": [],
   "source": []
  }
 ],
 "metadata": {
  "kernelspec": {
   "display_name": "Python 3",
   "language": "python",
   "name": "python3"
  },
  "language_info": {
   "codemirror_mode": {
    "name": "ipython",
    "version": 3
   },
   "file_extension": ".py",
   "mimetype": "text/x-python",
   "name": "python",
   "nbconvert_exporter": "python",
   "pygments_lexer": "ipython3",
   "version": "3.7.0"
  }
 },
 "nbformat": 4,
 "nbformat_minor": 2
}
